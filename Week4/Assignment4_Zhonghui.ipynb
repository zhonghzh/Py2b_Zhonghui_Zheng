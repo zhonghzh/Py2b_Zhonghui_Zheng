{
 "cells": [
  {
   "cell_type": "code",
   "execution_count": 98,
   "id": "d3eb97b8",
   "metadata": {},
   "outputs": [],
   "source": [
    "import numpy as np\n",
    "import random\n",
    "\n",
    "class Person:\n",
    "    def __init__(self):\n",
    "        self.recover_prob = 0.2\n",
    "        self.die_prob = 0.05\n",
    "        self.init_sick_prob = 0.1\n",
    "        self.recovered = False\n",
    "        self.dead = False\n",
    "        self.sick = False\n",
    "        self.infect_others_prob = 0.05 #infectin rate\n",
    "        self.average_meetups = 10\n",
    "        self.days_sick=0\n",
    "        \n",
    "        self.init_sick_or_not()\n",
    "        \n",
    "    def init_sick_or_not(self):\n",
    "        \"\"\"When created each person starts as either sick or healthy\"\"\"\n",
    "        prob = random.random() #The returned value is 0-1: https://www.w3schools.com/python/ref_random_random.asp\n",
    "        if prob <= self.init_sick_prob:\n",
    "            # This should yield that about 10% of the people created are sick, the rest healthy\n",
    "            self.sick = True\n",
    "        else:\n",
    "            self.sick = False\n",
    "    \n",
    "    def day_passes(self, population, init_scenario=False):\n",
    "        \"\"\"This method describes what happends to each person each day\"\"\"\n",
    "        \n",
    "        # If a person is sick, they can infect others.\n",
    "        #prob = random.random()\n",
    "        if self.sick:\n",
    "            self.days_sick+=1\n",
    "            if init_scenario==False: #Why is it \"False\"?\n",
    "                self.infect_others(population)\n",
    "        \n",
    "        # Will person recover?\n",
    "        prob = random.random()\n",
    "        if prob <= self.recover_prob and self.sick == True:\n",
    "            # Person has rehabilitated and is now healthy!\n",
    "            self.sick = False\n",
    "            self.recovered = True \n",
    "        \n",
    "        # If person is still sick they might die\n",
    "        prob = random.random()\n",
    "        if prob <= self.die_prob and self.sick == True:\n",
    "            self.dead = True\n",
    "            self.sick = False\n",
    "            \n",
    "    def infect_others(self, population):\n",
    "        person_encounters = random.sample(range(population.size), k= self.average_meetups)\n",
    "        for person_id in person_encounters:\n",
    "            prob = random.random()\n",
    "            if prob <= self.infect_others_prob and population[person_id].recovered==False and population[person_id].dead==False:\n",
    "            # Person has rehabilitated and is now healthy!\n",
    "                population[person_id].sick = True\n",
    "             "
   ]
  },
  {
   "cell_type": "code",
   "execution_count": 101,
   "id": "0e1b8153",
   "metadata": {},
   "outputs": [
    {
     "ename": "SyntaxError",
     "evalue": "expected 'else' after 'if' expression (613927197.py, line 37)",
     "output_type": "error",
     "traceback": [
      "\u001b[1;36m  Cell \u001b[1;32mIn[101], line 37\u001b[1;36m\u001b[0m\n\u001b[1;33m    Patient_with_duration=[population.days_sick in self.population if self.sick]\u001b[0m\n\u001b[1;37m                           ^\u001b[0m\n\u001b[1;31mSyntaxError\u001b[0m\u001b[1;31m:\u001b[0m expected 'else' after 'if' expression\n"
     ]
    }
   ],
   "source": [
    "class Village:\n",
    "    def __init__(self, init_population_size):\n",
    "        self.population = np.empty(init_population_size, Person)#https://www.w3resource.com/numpy/array-creation/empty.php. Question: Class Person as dtype? Why isn't it according to the syntax empty(size, dtype=Person)\n",
    "        self.generate_inhabitants()\n",
    "    \n",
    "    def generate_inhabitants(self):\n",
    "        \"\"\"Generates the population\"\"\"\n",
    "        for i in range(self.population.size):\n",
    "            self.population[i] = Person()\n",
    "        \n",
    "    def advance_days(self, init_scenario = False):\n",
    "        \"\"\"Counts the status of the citizens in the community\"\"\"\n",
    "        people_sick = 0\n",
    "        people_recovered = 0\n",
    "        people_dead = 0\n",
    "        for person in self.population:\n",
    "            if person.sick == True:\n",
    "                people_sick += 1\n",
    "            elif person.recovered == True:\n",
    "                people_recovered += 1\n",
    "            elif person.dead == True:\n",
    "                people_dead += 1\n",
    "            \n",
    "            person.day_passes(self.population, init_scenario)\n",
    "\n",
    "        return people_sick, people_recovered, people_dead\n",
    "    \n",
    "    def start_simulation(self):\n",
    "        \"\"\"This function controls the simulation and what happends in a day\"\"\"\n",
    "        current_day = 0\n",
    "        \n",
    "        people_sick, people_recovered, people_dead = self.advance_days(init_scenario = True)\n",
    "        while people_sick:\n",
    "            print(f\"By day {current_day} {people_sick} people are sick, {people_dead} are dead and {people_recovered} has recovered\")\n",
    "            current_day += 1\n",
    "            people_sick, people_recovered, people_dead = self.advance_days()\n",
    "            Patient_with_duration=[population.days_sick in self.population if self.sick]\n",
    "        \n",
    "        people_unaffected = self.population.size - (people_sick + people_recovered + people_dead)\n",
    "        print(f\"\\nBy day {current_day} {people_sick} people are sick, {people_dead} are dead and {people_recovered} has recovered. {people_unaffected} people were never in contact with the virus\")\n",
    "        print(\"The village has recovered and the virus is eliminated!\")\n",
    "        print(self.population[999])"
   ]
  },
  {
   "cell_type": "code",
   "execution_count": 100,
   "id": "e6a3a24c",
   "metadata": {},
   "outputs": [
    {
     "ename": "AttributeError",
     "evalue": "'Village' object has no attribute 'days_sick'",
     "output_type": "error",
     "traceback": [
      "\u001b[1;31m---------------------------------------------------------------------------\u001b[0m",
      "\u001b[1;31mAttributeError\u001b[0m                            Traceback (most recent call last)",
      "Cell \u001b[1;32mIn[100], line 6\u001b[0m\n\u001b[0;32m      3\u001b[0m     village \u001b[38;5;241m=\u001b[39m Village(pop_size)\n\u001b[0;32m      4\u001b[0m     village\u001b[38;5;241m.\u001b[39mstart_simulation()\n\u001b[1;32m----> 6\u001b[0m main()\n",
      "Cell \u001b[1;32mIn[100], line 4\u001b[0m, in \u001b[0;36mmain\u001b[1;34m()\u001b[0m\n\u001b[0;32m      2\u001b[0m pop_size \u001b[38;5;241m=\u001b[39m \u001b[38;5;241m1000\u001b[39m\n\u001b[0;32m      3\u001b[0m village \u001b[38;5;241m=\u001b[39m Village(pop_size)\n\u001b[1;32m----> 4\u001b[0m village\u001b[38;5;241m.\u001b[39mstart_simulation()\n",
      "Cell \u001b[1;32mIn[99], line 31\u001b[0m, in \u001b[0;36mVillage.start_simulation\u001b[1;34m(self)\u001b[0m\n\u001b[0;32m     29\u001b[0m \u001b[38;5;250m\u001b[39m\u001b[38;5;124;03m\"\"\"This function controls the simulation and what happends in a day\"\"\"\u001b[39;00m\n\u001b[0;32m     30\u001b[0m current_day \u001b[38;5;241m=\u001b[39m \u001b[38;5;241m0\u001b[39m\n\u001b[1;32m---> 31\u001b[0m Patient_with_duration\u001b[38;5;241m=\u001b[39m[\u001b[38;5;28mself\u001b[39m\u001b[38;5;241m.\u001b[39mdays_sick \u001b[38;5;28;01mfor\u001b[39;00m \u001b[38;5;28mself\u001b[39m\u001b[38;5;241m.\u001b[39msick \u001b[38;5;129;01min\u001b[39;00m \u001b[38;5;28mself\u001b[39m\u001b[38;5;241m.\u001b[39mpopulation]\n\u001b[0;32m     32\u001b[0m people_sick, people_recovered, people_dead \u001b[38;5;241m=\u001b[39m \u001b[38;5;28mself\u001b[39m\u001b[38;5;241m.\u001b[39madvance_days(init_scenario \u001b[38;5;241m=\u001b[39m \u001b[38;5;28;01mTrue\u001b[39;00m)\n\u001b[0;32m     33\u001b[0m \u001b[38;5;28;01mwhile\u001b[39;00m people_sick:\n",
      "Cell \u001b[1;32mIn[99], line 31\u001b[0m, in \u001b[0;36m<listcomp>\u001b[1;34m(.0)\u001b[0m\n\u001b[0;32m     29\u001b[0m \u001b[38;5;250m\u001b[39m\u001b[38;5;124;03m\"\"\"This function controls the simulation and what happends in a day\"\"\"\u001b[39;00m\n\u001b[0;32m     30\u001b[0m current_day \u001b[38;5;241m=\u001b[39m \u001b[38;5;241m0\u001b[39m\n\u001b[1;32m---> 31\u001b[0m Patient_with_duration\u001b[38;5;241m=\u001b[39m[\u001b[38;5;28mself\u001b[39m\u001b[38;5;241m.\u001b[39mdays_sick \u001b[38;5;28;01mfor\u001b[39;00m \u001b[38;5;28mself\u001b[39m\u001b[38;5;241m.\u001b[39msick \u001b[38;5;129;01min\u001b[39;00m \u001b[38;5;28mself\u001b[39m\u001b[38;5;241m.\u001b[39mpopulation]\n\u001b[0;32m     32\u001b[0m people_sick, people_recovered, people_dead \u001b[38;5;241m=\u001b[39m \u001b[38;5;28mself\u001b[39m\u001b[38;5;241m.\u001b[39madvance_days(init_scenario \u001b[38;5;241m=\u001b[39m \u001b[38;5;28;01mTrue\u001b[39;00m)\n\u001b[0;32m     33\u001b[0m \u001b[38;5;28;01mwhile\u001b[39;00m people_sick:\n",
      "\u001b[1;31mAttributeError\u001b[0m: 'Village' object has no attribute 'days_sick'"
     ]
    }
   ],
   "source": [
    "def main():\n",
    "    pop_size = 1000\n",
    "    village = Village(pop_size)\n",
    "    village.start_simulation()\n",
    "\n",
    "main()"
   ]
  },
  {
   "cell_type": "code",
   "execution_count": null,
   "id": "83a539de",
   "metadata": {},
   "outputs": [],
   "source": []
  }
 ],
 "metadata": {
  "kernelspec": {
   "display_name": "Python 3 (ipykernel)",
   "language": "python",
   "name": "python3"
  },
  "language_info": {
   "codemirror_mode": {
    "name": "ipython",
    "version": 3
   },
   "file_extension": ".py",
   "mimetype": "text/x-python",
   "name": "python",
   "nbconvert_exporter": "python",
   "pygments_lexer": "ipython3",
   "version": "3.11.5"
  }
 },
 "nbformat": 4,
 "nbformat_minor": 5
}
